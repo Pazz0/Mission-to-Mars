{
 "cells": [
  {
   "cell_type": "code",
   "execution_count": 11,
   "id": "a952b80a",
   "metadata": {},
   "outputs": [],
   "source": [
    "from splinter import Browser\n",
    "from bs4 import BeautifulSoup\n",
    "from webdriver_manager.chrome import ChromeDriverManager\n",
    "\n",
    "executable_path = {'executable_path': ChromeDriverManager().install()}\n",
    "browser = Browser('chrome', **executable_path, headless=False)\n",
    "\n",
    "url = 'http://books.toscrape.com/'\n",
    "browser.visit(url)\n",
    "html = browser.html\n",
    "#quote_soup = BeautifulSoup(html, 'html.parser')"
   ]
  },
  {
   "cell_type": "code",
   "execution_count": 12,
   "id": "2cf3ddce",
   "metadata": {},
   "outputs": [
    {
     "data": {
      "text/plain": [
       "['Books',\n",
       " 'Travel',\n",
       " 'Mystery',\n",
       " 'Historical Fiction',\n",
       " 'Sequential Art',\n",
       " 'Classics',\n",
       " 'Philosophy',\n",
       " 'Romance',\n",
       " 'Womens Fiction',\n",
       " 'Fiction',\n",
       " 'Childrens',\n",
       " 'Religion',\n",
       " 'Nonfiction',\n",
       " 'Music',\n",
       " 'Default',\n",
       " 'Science Fiction',\n",
       " 'Sports and Games',\n",
       " 'Add a comment',\n",
       " 'Fantasy',\n",
       " 'New Adult',\n",
       " 'Young Adult',\n",
       " 'Science',\n",
       " 'Poetry',\n",
       " 'Paranormal',\n",
       " 'Art',\n",
       " 'Psychology',\n",
       " 'Autobiography',\n",
       " 'Parenting',\n",
       " 'Adult Fiction',\n",
       " 'Humor',\n",
       " 'Horror',\n",
       " 'History',\n",
       " 'Food and Drink',\n",
       " 'Christian Fiction',\n",
       " 'Business',\n",
       " 'Biography',\n",
       " 'Thriller',\n",
       " 'Contemporary',\n",
       " 'Spirituality',\n",
       " 'Academic',\n",
       " 'Self Help',\n",
       " 'Historical',\n",
       " 'Christian',\n",
       " 'Suspense',\n",
       " 'Short Stories',\n",
       " 'Novels',\n",
       " 'Health',\n",
       " 'Politics',\n",
       " 'Cultural',\n",
       " 'Erotica',\n",
       " 'Crime']"
      ]
     },
     "execution_count": 12,
     "metadata": {},
     "output_type": "execute_result"
    }
   ],
   "source": [
    "# Scrape all quotes on a single page\n",
    "#using the find_all method to extract all the span elements that have the text class\n",
    "\n",
    "link_soup = BeautifulSoup(html, 'html.parser')\n",
    "\n",
    "nav_list = link_soup.find('ul', class_='nav-list')\n",
    "li = nav_list.find('li')\n",
    "\n",
    "a_list=li.find_all('a')\n",
    "genres=[a.text.strip() for a in a_list]\n",
    "genres"
   ]
  },
  {
   "cell_type": "code",
   "execution_count": 5,
   "id": "13a381f3",
   "metadata": {},
   "outputs": [],
   "source": [
    "browser.quit()"
   ]
  },
  {
   "cell_type": "code",
   "execution_count": null,
   "id": "88deed88",
   "metadata": {},
   "outputs": [],
   "source": []
  }
 ],
 "metadata": {
  "kernelspec": {
   "display_name": "PythonData",
   "language": "python",
   "name": "pythondata"
  },
  "language_info": {
   "codemirror_mode": {
    "name": "ipython",
    "version": 3
   },
   "file_extension": ".py",
   "mimetype": "text/x-python",
   "name": "python",
   "nbconvert_exporter": "python",
   "pygments_lexer": "ipython3",
   "version": "3.8.15"
  }
 },
 "nbformat": 4,
 "nbformat_minor": 5
}
